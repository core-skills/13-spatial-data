{
 "cells": [
  {
   "cell_type": "markdown",
   "metadata": {},
   "source": [
    "# Geocoding using an online API\n",
    "\n",
    "We're going to explore geocoding using LocationIQ's API. If you've never used an API before this might be a fun introduction to how most servers talk to each other on the web.\n",
    "\n",
    "Before you get going you will need to have a LocationIQ API key - something that authenticates you as 'not a bot' to LocationIQ's servers. You can get one by heading over here and signing up for an account: https://locationiq.com\n",
    "\n",
    "Then you'll need to create an access token to let Python access the API. You can do this here: https://my.locationiq.com/dashboard#account\n",
    "\n",
    "Once you've got your access token you should include it in place of the one below."
   ]
  },
  {
   "cell_type": "code",
   "execution_count": null,
   "metadata": {},
   "outputs": [],
   "source": [
    "# Install required packages if using jupyterhub\n",
    "# %pip install -r ../requirements.txt"
   ]
  },
  {
   "cell_type": "code",
   "execution_count": null,
   "metadata": {},
   "outputs": [],
   "source": [
    "import requests\n",
    "from io import BytesIO\n",
    "from cartopy import crs\n",
    "from cartopy import feature\n",
    "import numpy as np\n",
    "import pandas as pd\n",
    "import matplotlib.pyplot as plt\n",
    "\n",
    "# If cartopy is not installed, you might need to try:\n",
    "#!conda install cartopy"
   ]
  },
  {
   "cell_type": "code",
   "execution_count": null,
   "metadata": {},
   "outputs": [],
   "source": [
    "YOUR_PRIVATE_TOKEN = 'pk.11ce78f7ef550e8a9b88deada7df9f0e' # put your own token in here..."
   ]
  },
  {
   "cell_type": "markdown",
   "metadata": {},
   "source": [
    "You can continue to use this token to get running today (it's linked to my account) but I'll nuke the credentials after the class so this notebook will likely stop working after that. I'd suggest you make sure you're up and running with the API registration today if you want to use this code later.\n",
    "\n",
    "We're going to use the `requests` library to send and recieve data from LocationIQ's API over the network. This is baked into every conda install so you don't have to install it yourself. For more on `requests` read [the documentation here](http://docs.python-requests.org/en/master/)."
   ]
  },
  {
   "cell_type": "markdown",
   "metadata": {},
   "source": [
    "Let's take a look at what we can do with the API. Head over to LocationIQ's documentation page on 'forward geocoding' and browse around:\n",
    "\n",
    "https://locationiq.com/docs#forward-geocoding\n",
    "\n",
    "You'll notice that on the left there are a bunch of tabs to show example code in different languages. Click on the Python one and you'll get something like the following code:"
   ]
  },
  {
   "cell_type": "code",
   "execution_count": null,
   "metadata": {},
   "outputs": [],
   "source": [
    "# The URL that we're going to hit\n",
    "url = \"https://us1.locationiq.com/v1/search.php\"\n",
    "data = {\n",
    "    'key': YOUR_PRIVATE_TOKEN,     # our token from above\n",
    "    'q': 'Empire State Building',  # the place that we want to search for\n",
    "    'format': 'json'               # how we want to get the results\n",
    "}\n",
    "\n",
    "# Actually hit the endpoint\n",
    "response = requests.get(url, params=data)"
   ]
  },
  {
   "cell_type": "markdown",
   "metadata": {},
   "source": [
    "What this does is creates an HTTP request object, hit the endpoint over the web and then returns the JSON document that it gets.\n",
    "\n",
    "We can look at individual entries such as the URL:"
   ]
  },
  {
   "cell_type": "code",
   "execution_count": null,
   "metadata": {},
   "outputs": [],
   "source": [
    "response.url"
   ]
  },
  {
   "cell_type": "markdown",
   "metadata": {},
   "source": [
    "and whether the response returned normally"
   ]
  },
  {
   "cell_type": "code",
   "execution_count": null,
   "metadata": {},
   "outputs": [],
   "source": [
    "response.ok"
   ]
  },
  {
   "cell_type": "markdown",
   "metadata": {},
   "source": [
    "...which is quite nice as you can do something like the following:\n",
    "\n",
    "```python\n",
    "response = requests.get('http://some.url')\n",
    "if response.ok:\n",
    "    data = response.json()\n",
    "else:\n",
    "    raise ValueError(\"Couldn't hit URL!\")  # please provide a better error message than this!\n",
    "```\n",
    "\n",
    "The other nice thing that requests does is automatically parse the returned text into a Python dictionary for us. Let's take a look at that:"
   ]
  },
  {
   "cell_type": "code",
   "execution_count": null,
   "metadata": {},
   "outputs": [],
   "source": [
    "response.json()"
   ]
  },
  {
   "cell_type": "markdown",
   "metadata": {},
   "source": [
    "---\n",
    "\n",
    "___Aside: getting more than JSON from an endpoint___\n",
    "\n",
    "_If you want to just get the raw binary string from the endpoint then you can do so with the `content` attribute. This is useful if you're getting images back (say a `.png`) and want to pass them to scipy to read into an image._"
   ]
  },
  {
   "cell_type": "code",
   "execution_count": null,
   "metadata": {},
   "outputs": [],
   "source": [
    "url = 'https://upload.wikimedia.org/wikipedia/commons/f/f4/Perth-skyline.jpg'\n",
    "\n",
    "picture = requests.get(url)\n",
    "if picture.ok:\n",
    "    image = plt.imread(BytesIO(picture.content),'jpg')\n",
    "    plt.imshow(image)\n"
   ]
  },
  {
   "cell_type": "markdown",
   "metadata": {},
   "source": [
    "_For example we can hit the icons returned in the API if we wanted to render these_"
   ]
  },
  {
   "cell_type": "code",
   "execution_count": null,
   "metadata": {},
   "outputs": [],
   "source": [
    "result = response.json()[0]\n",
    "result['icon']  # has an URL pointing to an icon for us to render if we want"
   ]
  },
  {
   "cell_type": "code",
   "execution_count": null,
   "metadata": {},
   "outputs": [],
   "source": [
    "def get_picture(url,ext='png'):\n",
    "    \"\"\" Get a picture from some URL \n",
    "    \n",
    "    \"\"\"\n",
    "    picture = requests.get(url)\n",
    "    if picture.ok:\n",
    "        return plt.imread(BytesIO(picture.content),ext)\n",
    "    else:\n",
    "        raise ValueError('Something went wrong!')"
   ]
  },
  {
   "cell_type": "code",
   "execution_count": 2,
   "metadata": {},
   "outputs": [],
   "source": [
    "# Loop through our responses and plot the icon in a seperate axis\n",
    "fig, axes = plt.subplots(1, len(response.json()))\n",
    "for result, ax in zip(response.json(), axes):\n",
    "    if 'icon' in result.keys():\n",
    "        icon = get_picture(result['icon'])\n",
    "        ax.imshow(icon)\n",
    "        ax.set_axis_off()"
   ]
  },
  {
   "cell_type": "markdown",
   "metadata": {},
   "source": [
    "_Now you'd have to work out how to put those in the right location on the map - at this point some searching and StackOverflow would probably be helpful_\n",
    "\n",
    "---\n",
    "\n",
    "Ok back to our original data from the API. So it turns out that there are several 'places' associated with the name 'Empire State Building'. In particular we now have point locations (latitude and longitude) and even a full display address that we could use to add value to our data. Which one you pick is up to you but note that LocationIQ also provides an 'importance' attribute that you could use to filter your results.\n",
    "\n",
    "For now, let's extract the latitude and longitude and put this on a map, all in Python. We're going to use `cartopy` to generate our maps and handle the projections for us. For more on `cartopy` check out [its documentation here](https://scitools.org.uk/cartopy/docs/latest/index.html). \n",
    "\n",
    "The first time you run this you might get a warning that cartopy is downloading the Natural Earth coastline data. You can read more about the Natural Earth datasets here: https://www.naturalearthdata.com. This is a "
   ]
  },
  {
   "cell_type": "code",
   "execution_count": null,
   "metadata": {},
   "outputs": [],
   "source": [
    "ax = plt.axes(projection=crs.Orthographic(\n",
    "    central_latitude=65,\n",
    "    central_longitude=-50\n",
    "    \n",
    "))\n",
    "ax.coastlines()"
   ]
  },
  {
   "cell_type": "markdown",
   "metadata": {},
   "source": [
    "You can have other basemaps or projections if you want as well"
   ]
  },
  {
   "cell_type": "code",
   "execution_count": null,
   "metadata": {},
   "outputs": [],
   "source": [
    "ax = plt.axes(projection=crs.AlbersEqualArea(\n",
    "    central_latitude=65,\n",
    "    central_longitude=-50\n",
    "    \n",
    "))\n",
    "ax.stock_img()\n",
    "ax.set_extent((-90, 40, -60, 60))"
   ]
  },
  {
   "cell_type": "markdown",
   "metadata": {},
   "source": [
    "If you want a different projection, try one of the others from the `cartopy` project list here: https://scitools.org.uk/cartopy/docs/v0.9/crs/projections.html"
   ]
  },
  {
   "cell_type": "code",
   "execution_count": null,
   "metadata": {},
   "outputs": [],
   "source": [
    "ax = plt.axes(projection=crs.PlateCarree())\n",
    "ax.stock_img()"
   ]
  },
  {
   "cell_type": "markdown",
   "metadata": {},
   "source": [
    "So now we can parse the latitude and longitude points from the API and plot these"
   ]
  },
  {
   "cell_type": "code",
   "execution_count": null,
   "metadata": {},
   "outputs": [],
   "source": [
    "# Extract our points for each hit\n",
    "points = np.array([\n",
    "    (float(hit['lon']), float(hit['lat'])) for hit in response.json()\n",
    "]).transpose()\n",
    "\n",
    "# Generate our basemap & points\n",
    "proj = crs.PlateCarree()\n",
    "ax = plt.axes(projection=proj)\n",
    "ax.set_extent((-90, 40, 20, 60))  # sets bounds as (min_lon, max_lon, min_lat, max_lat)\n",
    "plt.plot(points[0], points[1], 'ro')\n",
    "ax.stock_img()\n",
    "ax.coastlines()\n",
    "\n",
    "# Add states and provinces from Natural Earth\n",
    "# see https://www.naturalearthdata.com/features/ for more things to plot\n",
    "countries = feature.NaturalEarthFeature(\n",
    "        category='cultural',\n",
    "        name='admin_0_countries',\n",
    "        scale='50m',\n",
    "        facecolor='none')\n",
    "ax.add_feature(countries, edgecolor='gray')\n",
    "\n",
    "# Resize the image to make it a bit bigger\n",
    "plt.gcf().set_size_inches(14, 8)"
   ]
  },
  {
   "cell_type": "markdown",
   "metadata": {},
   "source": [
    "Congratulations, you've made a Python version of Google Maps (without the UI polish of the original)!\n",
    "\n",
    "If you want to make a pointy-clicky-scrolly version then take a look at folium https://github.com/python-visualization/folium, although if you're doing this seriously then you probably want to switch to a better front end language than Python (i.e. JavaScript). Typically geospatial processing code uses Python in the backend and JS for rendering in the frontend.\n",
    "\n",
    "## Exercise\n",
    "\n",
    "1. Write a function `get_position` that geocodes a given location. Start with the following\n",
    "\n",
    "```python\n",
    "def get_position(location_string):\n",
    "    \"\"\" Get the latitude and longitude of the given location\n",
    "    \n",
    "        Returns the location with the highest likelihood from the LocationIQ API\n",
    "     \n",
    "        Parameters:\n",
    "            location_string - The location to geocode, for example\n",
    "                'Eiffel Tower' or 'Empire State Building'\n",
    "        \n",
    "        Returns:\n",
    "            the location as a numpy array: [longitude, latitude]\n",
    "    \"\"\"\n",
    "    # your code here\n",
    "```\n",
    "\n",
    "2. Then make a list of addresses in Pandas (as a Pandas Series) and apply your function to generate longitude & latitude columns in the data\n",
    "\n",
    "#### Note: If not using a personal token and on Binder\n",
    "There may be response issues where a more robust approach to using the response package might be needed, see https://realpython.com/python-requests/#performance\n",
    "\n",
    "#### _Bonus: Plot the locations a map!_"
   ]
  },
  {
   "cell_type": "code",
   "execution_count": null,
   "metadata": {},
   "outputs": [],
   "source": [
    "def get_position(location_string):\n",
    "    \"\"\" Get the latitude and longitude of the given location\n",
    "    \n",
    "        Returns the location with the highest likelihood from the LocationIQ API\n",
    "     \n",
    "        Parameters:\n",
    "            location_string - The location to geocode, for example\n",
    "                'Eiffel Tower' or 'Empire State Building'\n",
    "        \n",
    "        Returns:\n",
    "            the location as a numpy array: [longitude, latitude]\n",
    "    \"\"\"\n",
    "    # Talk to the API \n",
    "    token = \n",
    "    url =\n",
    "    data = {\n",
    "        'key': ,\n",
    "        'q': ,\n",
    "        'format': 'json'\n",
    "    }\n",
    "    response = \n",
    "    \n",
    "    # Check results\n",
    "    if not response.ok:\n",
    "        raise ValueError('Response not ok')\n",
    "    \n",
    "    # Get best result\n",
    "    results = [\n",
    "        (float(result['lat']), float(result['lon']), result['importance']) \n",
    "        for result in response.json()\n",
    "    ]\n",
    "    best_result = sorted(results, key=lambda x: x[2])[-1]\n",
    "    lat, long, _ = best_result\n",
    "    return np.array([lat, long])\n"
   ]
  },
  {
   "cell_type": "code",
   "execution_count": null,
   "metadata": {},
   "outputs": [],
   "source": [
    "position = get_position('Eiffel tower')\n",
    "position"
   ]
  },
  {
   "cell_type": "code",
   "execution_count": null,
   "metadata": {},
   "outputs": [],
   "source": []
  }
 ],
 "metadata": {
  "kernelspec": {
   "display_name": "core13",
   "language": "python",
   "name": "core13"
  },
  "language_info": {
   "codemirror_mode": {
    "name": "ipython",
    "version": 3
   },
   "file_extension": ".py",
   "mimetype": "text/x-python",
   "name": "python",
   "nbconvert_exporter": "python",
   "pygments_lexer": "ipython3",
   "version": "3.8.13"
  }
 },
 "nbformat": 4,
 "nbformat_minor": 2
}
